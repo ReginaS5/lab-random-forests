{
 "cells": [
  {
   "cell_type": "markdown",
   "id": "e289775b",
   "metadata": {},
   "source": [
    "## Lab | Random Forests"
   ]
  },
  {
   "cell_type": "code",
   "execution_count": null,
   "id": "4b2b626a",
   "metadata": {},
   "outputs": [],
   "source": [
    "import pandas as pd\n",
    "from sklearn.model_selection import train_test_split\n",
    "from sklearn.ensemble import RandomForestClassifier\n",
    "from sklearn.metrics import accuracy_score, classification_report"
   ]
  },
  {
   "cell_type": "code",
   "execution_count": null,
   "id": "28fdb12c",
   "metadata": {},
   "outputs": [],
   "source": [
    "categorical = pd.read_csv('categorical.csv')\n",
    "numerical = pd.read_csv('numerical.csv')\n",
    "target = pd.read_csv('target.csv')"
   ]
  },
  {
   "cell_type": "code",
   "execution_count": null,
   "id": "7afe90a0",
   "metadata": {},
   "outputs": [],
   "source": [
    "display(categorical)"
   ]
  },
  {
   "cell_type": "code",
   "execution_count": null,
   "id": "d3137207",
   "metadata": {},
   "outputs": [],
   "source": [
    "display(numerical)"
   ]
  },
  {
   "cell_type": "code",
   "execution_count": null,
   "id": "7f832c25",
   "metadata": {},
   "outputs": [],
   "source": [
    "display(target)"
   ]
  },
  {
   "cell_type": "code",
   "execution_count": null,
   "id": "4ebf3435",
   "metadata": {},
   "outputs": [],
   "source": [
    "data = pd.concat([categorical, numerical, target], axis=1)"
   ]
  },
  {
   "cell_type": "code",
   "execution_count": null,
   "id": "d501cc42",
   "metadata": {},
   "outputs": [],
   "source": [
    "data"
   ]
  },
  {
   "cell_type": "code",
   "execution_count": null,
   "id": "0afc74ef",
   "metadata": {},
   "outputs": [],
   "source": [
    "target_counts = data['TARGET_B'].value_counts()\n",
    "\n",
    "print(\"Class Distribution:\")\n",
    "print(target_counts)"
   ]
  },
  {
   "cell_type": "code",
   "execution_count": null,
   "id": "9b885c40",
   "metadata": {},
   "outputs": [],
   "source": [
    "# Separate categorical and numerical columns\n",
    "categorical_cols = ['STATE', 'HOMEOWNR', 'GENDER', 'DATASRCE', 'RFA_2R', 'RFA_2A', 'GEOCODE2', 'DOMAIN_A', 'DOMAIN_B']\n",
    "numerical_cols = [col for col in data.columns if col not in categorical_cols and col != 'TARGET_B']\n",
    "\n",
    "encoded_data = pd.get_dummies(data, columns=categorical_cols)\n",
    "\n",
    "X = encoded_data.drop('TARGET_B', axis=1)\n",
    "y = encoded_data['TARGET_B']\n",
    "\n",
    "X_train, X_test, y_train, y_test = train_test_split(X, y, test_size=0.2, random_state=42)"
   ]
  },
  {
   "cell_type": "code",
   "execution_count": null,
   "id": "3ec9a3c3",
   "metadata": {},
   "outputs": [],
   "source": [
    "#identifying numericals\n",
    "numeric_cols = ['MAXRAMNT', 'LASTGIFT', 'TIMELAG', 'AVGGIFT', 'CONTROLN']\n",
    "data[numeric_cols] = data[numeric_cols].apply(pd.to_numeric, errors='coerce')\n",
    "\n",
    "encoded_data = pd.get_dummies(data, columns=categorical_cols)\n"
   ]
  },
  {
   "cell_type": "code",
   "execution_count": null,
   "id": "da971150",
   "metadata": {},
   "outputs": [],
   "source": [
    "# Separate categorical and numerical columns\n",
    "categorical_cols = ['STATE', 'HOMEOWNR', 'GENDER', 'DATASRCE', 'RFA_2R', 'RFA_2A', 'GEOCODE2', 'DOMAIN_A', 'DOMAIN_B']\n",
    "numerical_cols = [col for col in data.columns if col not in categorical_cols and col != 'TARGET_B']\n",
    "\n",
    "data[numerical_cols] = data[numerical_cols].apply(pd.to_numeric, errors='coerce')\n",
    "\n",
    "encoded_data = pd.get_dummies(data, columns=categorical_cols)"
   ]
  },
  {
   "cell_type": "code",
   "execution_count": null,
   "id": "31c62a18",
   "metadata": {},
   "outputs": [],
   "source": [
    "from sklearn.utils import resample\n",
    "\n",
    "X = encoded_data.drop('TARGET_B', axis=1)\n",
    "y = encoded_data['TARGET_B']\n",
    "\n",
    "X_train, X_test, y_train, y_test = train_test_split(X, y, test_size=0.2, random_state=42)\n",
    "\n",
    "train_data = pd.concat([X_train, y_train], axis=1)\n",
    "\n",
    "majority_class = train_data[train_data['TARGET_B'] == 0]\n",
    "minority_class = train_data[train_data['TARGET_B'] == 1]\n",
    "\n",
    "minority_upsampled = resample(minority_class,\n",
    "                              replace=True,\n",
    "                              n_samples=len(majority_class),\n",
    "                              random_state=42)\n",
    "\n",
    "upsampled_data = pd.concat([majority_class, minority_upsampled])\n",
    "\n",
    "X_upsampled = upsampled_data.drop('TARGET_B', axis=1)\n",
    "y_upsampled = upsampled_data['TARGET_B']\n",
    "\n",
    "rf_classifier_upsampled = RandomForestClassifier(n_estimators=100, random_state=42)\n",
    "\n",
    "rf_classifier_upsampled.fit(X_upsampled, y_upsampled)\n",
    "\n",
    "y_pred_upsampled = rf_classifier_upsampled.predict(X_test)\n",
    "\n",
    "accuracy_upsampled = accuracy_score(y_test, y_pred_upsampled)\n",
    "print(f\"Accuracy after upsampling: {accuracy_upsampled}\")\n",
    "\n",
    "report_upsampled = classification_report(y_test, y_pred_upsampled)\n",
    "print(\"Classification Report after upsampling:\")\n",
    "print(report_upsampled)"
   ]
  },
  {
   "cell_type": "code",
   "execution_count": null,
   "id": "294433a2",
   "metadata": {},
   "outputs": [],
   "source": [
    "# It looks like the model's performance improved significantly after upsampling the minority class. The accuracy, precision, \n",
    "# recall, and F1-score for both classes ('0' and '1') have notably improved.\n",
    "\n",
    "# Overall, these metrics suggest that the upsampling method significantly improved the model's ability to predict the minority \n",
    "# class without sacrificing the overall performance on the majority class."
   ]
  },
  {
   "cell_type": "raw",
   "id": "00f0fb0a",
   "metadata": {},
   "source": [
    "I decided to combine the methods to obtain better results"
   ]
  },
  {
   "cell_type": "markdown",
   "id": "b609710b",
   "metadata": {},
   "source": [
    "#####  Variance Threshold"
   ]
  },
  {
   "cell_type": "code",
   "execution_count": null,
   "id": "060de286",
   "metadata": {},
   "outputs": [],
   "source": [
    "from sklearn.feature_selection import VarianceThreshold\n",
    "\n",
    "threshold = 0.1 \n",
    "variance_threshold = VarianceThreshold(threshold=threshold)\n",
    "\n",
    "variance_threshold.fit(X_upsampled)\n",
    "\n",
    "selected_by_variance = variance_threshold.get_support(indices=True)\n",
    "\n",
    "X_variance_selected = X_upsampled.iloc[:, selected_by_variance]"
   ]
  },
  {
   "cell_type": "markdown",
   "id": "342327c2",
   "metadata": {},
   "source": [
    "#### RFE with Random Forest"
   ]
  },
  {
   "cell_type": "code",
   "execution_count": null,
   "id": "d21cc084",
   "metadata": {},
   "outputs": [],
   "source": [
    "from sklearn.feature_selection import RFE\n",
    "\n",
    "rfe = RFE(estimator=rf_classifier_upsampled, n_features_to_select=10)\n",
    "rfe.fit(X_variance_selected, y_upsampled)\n",
    "\n",
    "selected_by_rfe = rfe.get_support(indices=True)\n",
    "\n",
    "X_rfe_selected = X_variance_selected.iloc[:, selected_by_rfe]"
   ]
  },
  {
   "cell_type": "markdown",
   "id": "881e77be",
   "metadata": {},
   "source": [
    "####  PCA for Dimensionality Reduction"
   ]
  },
  {
   "cell_type": "code",
   "execution_count": null,
   "id": "3f2cb731",
   "metadata": {},
   "outputs": [],
   "source": [
    "from sklearn.decomposition import PCA\n",
    "n_components = 5 \n",
    "pca = PCA(n_components=n_components)\n",
    "\n",
    "X_pca = pca.fit_transform(X_rfe_selected)"
   ]
  },
  {
   "cell_type": "code",
   "execution_count": null,
   "id": "1a400189",
   "metadata": {},
   "outputs": [],
   "source": [
    "rf_classifier_feature_selected = RandomForestClassifier(n_estimators=100, random_state=42)\n",
    "rf_classifier_feature_selected.fit(X_pca, y_upsampled)\n",
    "\n",
    "X_test_variance_selected = variance_threshold.transform(X_test)\n",
    "X_test_rfe_selected = rfe.transform(X_test_variance_selected)\n",
    "X_test_pca = pca.transform(X_test_rfe_selected)\n",
    "\n",
    "y_pred_feature_selected = rf_classifier_feature_selected.predict(X_test_pca)\n",
    "\n",
    "accuracy_feature_selected = accuracy_score(y_test, y_pred_feature_selected)\n",
    "print(f\"Accuracy after feature selection: {accuracy_feature_selected}\")\n",
    "\n",
    "report_feature_selected = classification_report(y_test, y_pred_feature_selected)\n",
    "print(\"Classification Report after feature selection:\")\n",
    "print(report_feature_selected)"
   ]
  },
  {
   "cell_type": "code",
   "execution_count": null,
   "id": "0122edfe",
   "metadata": {},
   "outputs": [],
   "source": []
  }
 ],
 "metadata": {
  "kernelspec": {
   "display_name": "Python 3 (ipykernel)",
   "language": "python",
   "name": "python3"
  },
  "language_info": {
   "codemirror_mode": {
    "name": "ipython",
    "version": 3
   },
   "file_extension": ".py",
   "mimetype": "text/x-python",
   "name": "python",
   "nbconvert_exporter": "python",
   "pygments_lexer": "ipython3",
   "version": "3.11.4"
  }
 },
 "nbformat": 4,
 "nbformat_minor": 5
}
